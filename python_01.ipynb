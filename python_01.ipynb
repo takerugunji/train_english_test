{
 "cells": [
  {
   "cell_type": "code",
   "execution_count": 1,
   "metadata": {
    "scrolled": false
   },
   "outputs": [
    {
     "ename": "KeyError",
     "evalue": "'wonder'",
     "output_type": "error",
     "traceback": [
      "\u001b[1;31m---------------------------------------------------------------------------\u001b[0m",
      "\u001b[1;31mKeyError\u001b[0m                                  Traceback (most recent call last)",
      "\u001b[1;32m<ipython-input-1-9fc08c76fb1c>\u001b[0m in \u001b[0;36m<module>\u001b[1;34m()\u001b[0m\n\u001b[0;32m     37\u001b[0m             \u001b[1;32mfor\u001b[0m \u001b[0mquestion_num\u001b[0m \u001b[1;32min\u001b[0m \u001b[0mrange\u001b[0m\u001b[1;33m(\u001b[0m\u001b[0mn_questions\u001b[0m\u001b[1;33m)\u001b[0m\u001b[1;33m:\u001b[0m\u001b[1;33m\u001b[0m\u001b[0m\n\u001b[0;32m     38\u001b[0m                 \u001b[0mquestion_word\u001b[0m \u001b[1;33m=\u001b[0m \u001b[0menglish_words\u001b[0m\u001b[1;33m[\u001b[0m\u001b[0mrandom_index\u001b[0m\u001b[1;33m[\u001b[0m\u001b[0mquestion_num\u001b[0m\u001b[1;33m]\u001b[0m\u001b[1;33m]\u001b[0m\u001b[1;33m\u001b[0m\u001b[0m\n\u001b[1;32m---> 39\u001b[1;33m                 \u001b[0mcorrect_answer\u001b[0m \u001b[1;33m=\u001b[0m \u001b[0mwords_dict\u001b[0m\u001b[1;33m[\u001b[0m\u001b[0mquestion_word\u001b[0m\u001b[1;33m]\u001b[0m\u001b[1;33m\u001b[0m\u001b[0m\n\u001b[0m\u001b[0;32m     40\u001b[0m \u001b[1;33m\u001b[0m\u001b[0m\n\u001b[0;32m     41\u001b[0m                 \u001b[0mmeanings_copy\u001b[0m \u001b[1;33m=\u001b[0m \u001b[0mmeanings\u001b[0m\u001b[1;33m.\u001b[0m\u001b[0mcopy\u001b[0m\u001b[1;33m(\u001b[0m\u001b[1;33m)\u001b[0m\u001b[1;33m\u001b[0m\u001b[0m\n",
      "\u001b[1;31mKeyError\u001b[0m: 'wonder'"
     ]
    }
   ],
   "source": [
    "import re\n",
    "import random\n",
    "import numpy as np\n",
    "\n",
    "source = 'english_words_01.txt'\n",
    "n_tests = 50\n",
    "n_questions = 50\n",
    "\n",
    "def create_words_dict(source):\n",
    "    with open(source) as f:\n",
    "        data = f.read()\n",
    "    english_words = re.findall('[a-z]+', data)\n",
    "    ja = re.findall('\\s.*\\n', data)\n",
    "    \n",
    "    meanings = []\n",
    "    for word in ja:\n",
    "        m = re.sub('\\t|\\n', ' ', word)\n",
    "        meanings.append(m)\n",
    "        \n",
    "    words_dict = dict(zip(english_words, meanings))\n",
    "    \n",
    "    return english_words, meanings, words_dict\n",
    "\n",
    "if __name__ == '__main__':\n",
    "    \n",
    "    english_words, meanings, words_dict = create_words_dict(source)\n",
    "\n",
    "    for test_num in range(n_tests):\n",
    "        with open('英単語テスト_{:02d}.txt'.format(test_num + 1), 'w') as f:\n",
    "\n",
    "            f.write('出席番号: \\n'\n",
    "                    '名前: \\n\\n'\n",
    "                    '第{}回 英単語テスト\\n\\n'.format(test_num + 1))\n",
    "\n",
    "            random_index = np.random.randint(low = 0, high = len(english_words), size = n_questions)\n",
    "\n",
    "            for question_num in range(n_questions):\n",
    "                question_word = english_words[random_index[question_num]]\n",
    "                correct_answer = words_dict[question_word]\n",
    "\n",
    "                meanings_copy = meanings.copy()\n",
    "                meanings_copy.remove(correct_answer)\n",
    "                wrong_answers = random.sample(meanings_copy, 3)\n",
    "\n",
    "                answer_options = [correct_answer] + wrong_answers\n",
    "\n",
    "                random.shuffle(answer_options)\n",
    "\n",
    "                f.write('問{}. {}\\n\\n'.format(question_num + 1, question_word))\n",
    "\n",
    "                for i in range(4):\n",
    "                    f.write('{}. {}\\n'.format(i + 1, answer_options[i]))\n",
    "                f.write('\\n\\n')"
   ]
  },
  {
   "cell_type": "code",
   "execution_count": null,
   "metadata": {},
   "outputs": [],
   "source": []
  }
 ],
 "metadata": {
  "kernelspec": {
   "display_name": "Python 3",
   "language": "python",
   "name": "python3"
  },
  "language_info": {
   "codemirror_mode": {
    "name": "ipython",
    "version": 3
   },
   "file_extension": ".py",
   "mimetype": "text/x-python",
   "name": "python",
   "nbconvert_exporter": "python",
   "pygments_lexer": "ipython3",
   "version": "3.7.0"
  }
 },
 "nbformat": 4,
 "nbformat_minor": 2
}
